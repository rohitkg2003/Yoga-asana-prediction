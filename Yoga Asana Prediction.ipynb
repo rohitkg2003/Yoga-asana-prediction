{
  "nbformat": 4,
  "nbformat_minor": 0,
  "metadata": {
    "colab": {
      "name": "Copy of ML Project Harsh.ipynb",
      "provenance": [],
      "collapsed_sections": [],
      "include_colab_link": true
    },
    "kernelspec": {
      "name": "python3",
      "display_name": "Python 3"
    },
    "language_info": {
      "name": "python"
    }
  },
  "cells": [
    {
      "cell_type": "markdown",
      "metadata": {
        "id": "view-in-github",
        "colab_type": "text"
      },
      "source": [
        "<a href=\"https://colab.research.google.com/github/rohitkg2003/Yoga-asana-prediction/blob/main/Yoga%20Asana%20Prediction.ipynb\" target=\"_parent\"><img src=\"https://colab.research.google.com/assets/colab-badge.svg\" alt=\"Open In Colab\"/></a>"
      ]
    },
    {
      "cell_type": "code",
      "execution_count": null,
      "metadata": {
        "colab": {
          "base_uri": "https://localhost:8080/"
        },
        "id": "Y98B8JVuLf3A",
        "outputId": "4b671ec5-038d-45dd-9910-68e4fa149cc8"
      },
      "outputs": [
        {
          "output_type": "stream",
          "name": "stdout",
          "text": [
            "Mounted at /content/drive\n"
          ]
        }
      ],
      "source": [
        "from google.colab import drive\n",
        "drive.mount('/content/drive')"
      ]
    },
    {
      "cell_type": "code",
      "source": [
        "import nltk\n",
        "nltk.download('stopwords')"
      ],
      "metadata": {
        "colab": {
          "base_uri": "https://localhost:8080/"
        },
        "id": "107J6IXUNSS-",
        "outputId": "c7a5438b-bbe0-4313-f016-bc5451fa5bdf"
      },
      "execution_count": null,
      "outputs": [
        {
          "output_type": "stream",
          "name": "stderr",
          "text": [
            "[nltk_data] Downloading package stopwords to /root/nltk_data...\n",
            "[nltk_data]   Unzipping corpora/stopwords.zip.\n"
          ]
        },
        {
          "output_type": "execute_result",
          "data": {
            "text/plain": [
              "True"
            ]
          },
          "metadata": {},
          "execution_count": 2
        }
      ]
    },
    {
      "cell_type": "code",
      "source": [
        "# !pip install np_utils"
      ],
      "metadata": {
        "id": "tjGLiDCY6HqA"
      },
      "execution_count": null,
      "outputs": []
    },
    {
      "cell_type": "code",
      "source": [
        "import numpy as np\n",
        "import pandas as pd\n",
        "from plotly.offline import iplot\n",
        "import matplotlib.pyplot as plt\n",
        "import seaborn as sns\n",
        "from tensorflow.keras.preprocessing.text import Tokenizer\n",
        "from tensorflow.keras.preprocessing.sequence import pad_sequences\n",
        "from tensorflow.keras.models import Sequential\n",
        "from tensorflow.keras.layers import Dense, Embedding, LSTM, SpatialDropout1D\n",
        "from sklearn.model_selection import train_test_split\n",
        "from keras.utils.np_utils import to_categorical\n",
        "from tensorflow.keras.callbacks import EarlyStopping\n",
        "from tensorflow.keras.layers import Dropout\n",
        "import re\n",
        "from nltk.corpus import stopwords\n",
        "from nltk import word_tokenize\n",
        "STOPWORDS = set(stopwords.words('english'))"
      ],
      "metadata": {
        "id": "6NOmFs1U6Zil"
      },
      "execution_count": null,
      "outputs": []
    },
    {
      "cell_type": "code",
      "source": [
        "df = pd.read_csv(\"/content/drive/MyDrive/ML project/final_data2\")\n",
        "# df.fillna(\"\",inplace=True)"
      ],
      "metadata": {
        "id": "_cEinJmzxxT4"
      },
      "execution_count": null,
      "outputs": []
    },
    {
      "cell_type": "code",
      "source": [
        "df.columns\n"
      ],
      "metadata": {
        "colab": {
          "base_uri": "https://localhost:8080/"
        },
        "id": "2hVOWE5R6zDQ",
        "outputId": "698eab94-5295-4fbe-dcd2-e9d0be26db89"
      },
      "execution_count": null,
      "outputs": [
        {
          "output_type": "execute_result",
          "data": {
            "text/plain": [
              "Index(['Benefits', 'Contraindication', 'Yoga Asan'], dtype='object')"
            ]
          },
          "metadata": {},
          "execution_count": 6
        }
      ]
    },
    {
      "cell_type": "code",
      "source": [
        "df=df.dropna()"
      ],
      "metadata": {
        "id": "VuszIbkaRd4B"
      },
      "execution_count": null,
      "outputs": []
    },
    {
      "cell_type": "code",
      "source": [
        "df.reset_index()"
      ],
      "metadata": {
        "colab": {
          "base_uri": "https://localhost:8080/",
          "height": 424
        },
        "id": "2MUNPKDWRe5S",
        "outputId": "4777777b-4cf3-402c-fb5a-e69c1927bd2b"
      },
      "execution_count": null,
      "outputs": [
        {
          "output_type": "execute_result",
          "data": {
            "text/plain": [
              "     index                                           Benefits  \\\n",
              "0        0  Corrects bad posture by straightening the spin...   \n",
              "1        1  Relieves gastritis indigestion acidity and fla...   \n",
              "2        2  Improves breathing capacity by expanding the c...   \n",
              "3        3  Enhances lung capacity , Tones the muscles of ...   \n",
              "4        4  Cools the brain and soothes the nerves, Reliev...   \n",
              "..     ...                                                ...   \n",
              "507    583  Strengthens core, arms, shoulders, elbows and ...   \n",
              "508    584  Strengthens core, arms, and shoulders. Improve...   \n",
              "509    585                     Strengthens the core and arms.   \n",
              "510    586  Stretches the entire front body and opens the ...   \n",
              "511    587                  Stretches the shoulders and spine   \n",
              "\n",
              "                                      Contraindication  \\\n",
              "0    If you have Parkinson’s disease or a spinal di...   \n",
              "1    If you are prone to dizzy spells vertigo or hi...   \n",
              "2    Do not practise if you have a cardiac conditio...   \n",
              "3    If you have high blood pressure avoid this asa...   \n",
              "4    If you have high blood pressure or a cardiac c...   \n",
              "..                                                 ...   \n",
              "507         Hips,Knees,Shoulders,Back or Wrists Injury   \n",
              "508                   Hips,Knees,Shoulders,Back Injury   \n",
              "509      Shoulders,Hips,Wrists or Pelvic Muscle injury   \n",
              "510                             Arms,Hips,Knees Injury   \n",
              "511                 Pregnancy,Menstruation,Back Issues   \n",
              "\n",
              "                                           Yoga Asan  \n",
              "0                       TADASANA or MOUNTAIN POSTURE  \n",
              "1      UTTHITA TRIKONASANA or EXTENDED TRIANGLE POSE  \n",
              "2                 VIRABHADRASANA 2 or WARRIOR POSE 2  \n",
              "3    UTTHITA PARSVAKONASANA or EXTENDED SIDE STRETCH  \n",
              "4           PARSVOTTANASANA or INTENSE TORSO STRETCH  \n",
              "..                                               ...  \n",
              "507                             Kukkutasana(Rooster)  \n",
              "508                    Karandavasana(Himalayan Duck)  \n",
              "509                                Lolasana(Pendant)  \n",
              "510      Dvi Pada Viparita Dandasana(Inverted Staff)  \n",
              "511                     Supta Konasana(Supine Angle)  \n",
              "\n",
              "[512 rows x 4 columns]"
            ],
            "text/html": [
              "\n",
              "  <div id=\"df-5ca5f873-1e67-4535-bad6-ca3cdffe2e32\">\n",
              "    <div class=\"colab-df-container\">\n",
              "      <div>\n",
              "<style scoped>\n",
              "    .dataframe tbody tr th:only-of-type {\n",
              "        vertical-align: middle;\n",
              "    }\n",
              "\n",
              "    .dataframe tbody tr th {\n",
              "        vertical-align: top;\n",
              "    }\n",
              "\n",
              "    .dataframe thead th {\n",
              "        text-align: right;\n",
              "    }\n",
              "</style>\n",
              "<table border=\"1\" class=\"dataframe\">\n",
              "  <thead>\n",
              "    <tr style=\"text-align: right;\">\n",
              "      <th></th>\n",
              "      <th>index</th>\n",
              "      <th>Benefits</th>\n",
              "      <th>Contraindication</th>\n",
              "      <th>Yoga Asan</th>\n",
              "    </tr>\n",
              "  </thead>\n",
              "  <tbody>\n",
              "    <tr>\n",
              "      <th>0</th>\n",
              "      <td>0</td>\n",
              "      <td>Corrects bad posture by straightening the spin...</td>\n",
              "      <td>If you have Parkinson’s disease or a spinal di...</td>\n",
              "      <td>TADASANA or MOUNTAIN POSTURE</td>\n",
              "    </tr>\n",
              "    <tr>\n",
              "      <th>1</th>\n",
              "      <td>1</td>\n",
              "      <td>Relieves gastritis indigestion acidity and fla...</td>\n",
              "      <td>If you are prone to dizzy spells vertigo or hi...</td>\n",
              "      <td>UTTHITA TRIKONASANA or EXTENDED TRIANGLE POSE</td>\n",
              "    </tr>\n",
              "    <tr>\n",
              "      <th>2</th>\n",
              "      <td>2</td>\n",
              "      <td>Improves breathing capacity by expanding the c...</td>\n",
              "      <td>Do not practise if you have a cardiac conditio...</td>\n",
              "      <td>VIRABHADRASANA 2 or WARRIOR POSE 2</td>\n",
              "    </tr>\n",
              "    <tr>\n",
              "      <th>3</th>\n",
              "      <td>3</td>\n",
              "      <td>Enhances lung capacity , Tones the muscles of ...</td>\n",
              "      <td>If you have high blood pressure avoid this asa...</td>\n",
              "      <td>UTTHITA PARSVAKONASANA or EXTENDED SIDE STRETCH</td>\n",
              "    </tr>\n",
              "    <tr>\n",
              "      <th>4</th>\n",
              "      <td>4</td>\n",
              "      <td>Cools the brain and soothes the nerves, Reliev...</td>\n",
              "      <td>If you have high blood pressure or a cardiac c...</td>\n",
              "      <td>PARSVOTTANASANA or INTENSE TORSO STRETCH</td>\n",
              "    </tr>\n",
              "    <tr>\n",
              "      <th>...</th>\n",
              "      <td>...</td>\n",
              "      <td>...</td>\n",
              "      <td>...</td>\n",
              "      <td>...</td>\n",
              "    </tr>\n",
              "    <tr>\n",
              "      <th>507</th>\n",
              "      <td>583</td>\n",
              "      <td>Strengthens core, arms, shoulders, elbows and ...</td>\n",
              "      <td>Hips,Knees,Shoulders,Back or Wrists Injury</td>\n",
              "      <td>Kukkutasana(Rooster)</td>\n",
              "    </tr>\n",
              "    <tr>\n",
              "      <th>508</th>\n",
              "      <td>584</td>\n",
              "      <td>Strengthens core, arms, and shoulders. Improve...</td>\n",
              "      <td>Hips,Knees,Shoulders,Back Injury</td>\n",
              "      <td>Karandavasana(Himalayan Duck)</td>\n",
              "    </tr>\n",
              "    <tr>\n",
              "      <th>509</th>\n",
              "      <td>585</td>\n",
              "      <td>Strengthens the core and arms.</td>\n",
              "      <td>Shoulders,Hips,Wrists or Pelvic Muscle injury</td>\n",
              "      <td>Lolasana(Pendant)</td>\n",
              "    </tr>\n",
              "    <tr>\n",
              "      <th>510</th>\n",
              "      <td>586</td>\n",
              "      <td>Stretches the entire front body and opens the ...</td>\n",
              "      <td>Arms,Hips,Knees Injury</td>\n",
              "      <td>Dvi Pada Viparita Dandasana(Inverted Staff)</td>\n",
              "    </tr>\n",
              "    <tr>\n",
              "      <th>511</th>\n",
              "      <td>587</td>\n",
              "      <td>Stretches the shoulders and spine</td>\n",
              "      <td>Pregnancy,Menstruation,Back Issues</td>\n",
              "      <td>Supta Konasana(Supine Angle)</td>\n",
              "    </tr>\n",
              "  </tbody>\n",
              "</table>\n",
              "<p>512 rows × 4 columns</p>\n",
              "</div>\n",
              "      <button class=\"colab-df-convert\" onclick=\"convertToInteractive('df-5ca5f873-1e67-4535-bad6-ca3cdffe2e32')\"\n",
              "              title=\"Convert this dataframe to an interactive table.\"\n",
              "              style=\"display:none;\">\n",
              "        \n",
              "  <svg xmlns=\"http://www.w3.org/2000/svg\" height=\"24px\"viewBox=\"0 0 24 24\"\n",
              "       width=\"24px\">\n",
              "    <path d=\"M0 0h24v24H0V0z\" fill=\"none\"/>\n",
              "    <path d=\"M18.56 5.44l.94 2.06.94-2.06 2.06-.94-2.06-.94-.94-2.06-.94 2.06-2.06.94zm-11 1L8.5 8.5l.94-2.06 2.06-.94-2.06-.94L8.5 2.5l-.94 2.06-2.06.94zm10 10l.94 2.06.94-2.06 2.06-.94-2.06-.94-.94-2.06-.94 2.06-2.06.94z\"/><path d=\"M17.41 7.96l-1.37-1.37c-.4-.4-.92-.59-1.43-.59-.52 0-1.04.2-1.43.59L10.3 9.45l-7.72 7.72c-.78.78-.78 2.05 0 2.83L4 21.41c.39.39.9.59 1.41.59.51 0 1.02-.2 1.41-.59l7.78-7.78 2.81-2.81c.8-.78.8-2.07 0-2.86zM5.41 20L4 18.59l7.72-7.72 1.47 1.35L5.41 20z\"/>\n",
              "  </svg>\n",
              "      </button>\n",
              "      \n",
              "  <style>\n",
              "    .colab-df-container {\n",
              "      display:flex;\n",
              "      flex-wrap:wrap;\n",
              "      gap: 12px;\n",
              "    }\n",
              "\n",
              "    .colab-df-convert {\n",
              "      background-color: #E8F0FE;\n",
              "      border: none;\n",
              "      border-radius: 50%;\n",
              "      cursor: pointer;\n",
              "      display: none;\n",
              "      fill: #1967D2;\n",
              "      height: 32px;\n",
              "      padding: 0 0 0 0;\n",
              "      width: 32px;\n",
              "    }\n",
              "\n",
              "    .colab-df-convert:hover {\n",
              "      background-color: #E2EBFA;\n",
              "      box-shadow: 0px 1px 2px rgba(60, 64, 67, 0.3), 0px 1px 3px 1px rgba(60, 64, 67, 0.15);\n",
              "      fill: #174EA6;\n",
              "    }\n",
              "\n",
              "    [theme=dark] .colab-df-convert {\n",
              "      background-color: #3B4455;\n",
              "      fill: #D2E3FC;\n",
              "    }\n",
              "\n",
              "    [theme=dark] .colab-df-convert:hover {\n",
              "      background-color: #434B5C;\n",
              "      box-shadow: 0px 1px 3px 1px rgba(0, 0, 0, 0.15);\n",
              "      filter: drop-shadow(0px 1px 2px rgba(0, 0, 0, 0.3));\n",
              "      fill: #FFFFFF;\n",
              "    }\n",
              "  </style>\n",
              "\n",
              "      <script>\n",
              "        const buttonEl =\n",
              "          document.querySelector('#df-5ca5f873-1e67-4535-bad6-ca3cdffe2e32 button.colab-df-convert');\n",
              "        buttonEl.style.display =\n",
              "          google.colab.kernel.accessAllowed ? 'block' : 'none';\n",
              "\n",
              "        async function convertToInteractive(key) {\n",
              "          const element = document.querySelector('#df-5ca5f873-1e67-4535-bad6-ca3cdffe2e32');\n",
              "          const dataTable =\n",
              "            await google.colab.kernel.invokeFunction('convertToInteractive',\n",
              "                                                     [key], {});\n",
              "          if (!dataTable) return;\n",
              "\n",
              "          const docLinkHtml = 'Like what you see? Visit the ' +\n",
              "            '<a target=\"_blank\" href=https://colab.research.google.com/notebooks/data_table.ipynb>data table notebook</a>'\n",
              "            + ' to learn more about interactive tables.';\n",
              "          element.innerHTML = '';\n",
              "          dataTable['output_type'] = 'display_data';\n",
              "          await google.colab.output.renderOutput(dataTable, element);\n",
              "          const docLink = document.createElement('div');\n",
              "          docLink.innerHTML = docLinkHtml;\n",
              "          element.appendChild(docLink);\n",
              "        }\n",
              "      </script>\n",
              "    </div>\n",
              "  </div>\n",
              "  "
            ]
          },
          "metadata": {},
          "execution_count": 8
        }
      ]
    },
    {
      "cell_type": "code",
      "source": [
        "x1='Benefits'\n",
        "x2='Yoga Asan'"
      ],
      "metadata": {
        "id": "0SiwgibS-SLG"
      },
      "execution_count": null,
      "outputs": []
    },
    {
      "cell_type": "code",
      "source": [
        "data = df[[x1,x2]]\n",
        "data = data.dropna()\n",
        "data=data.reset_index()\n",
        "# df.fillna(\"\",inplace=True)\n",
        "data"
      ],
      "metadata": {
        "colab": {
          "base_uri": "https://localhost:8080/",
          "height": 424
        },
        "id": "ZL2pkmo6-HXk",
        "outputId": "e5f4f26b-323c-44fd-a868-8c97dd8a504a"
      },
      "execution_count": null,
      "outputs": [
        {
          "output_type": "execute_result",
          "data": {
            "text/plain": [
              "     index                                           Benefits  \\\n",
              "0        0  Corrects bad posture by straightening the spin...   \n",
              "1        1  Relieves gastritis indigestion acidity and fla...   \n",
              "2        2  Improves breathing capacity by expanding the c...   \n",
              "3        3  Enhances lung capacity , Tones the muscles of ...   \n",
              "4        4  Cools the brain and soothes the nerves, Reliev...   \n",
              "..     ...                                                ...   \n",
              "507    583  Strengthens core, arms, shoulders, elbows and ...   \n",
              "508    584  Strengthens core, arms, and shoulders. Improve...   \n",
              "509    585                     Strengthens the core and arms.   \n",
              "510    586  Stretches the entire front body and opens the ...   \n",
              "511    587                  Stretches the shoulders and spine   \n",
              "\n",
              "                                           Yoga Asan  \n",
              "0                       TADASANA or MOUNTAIN POSTURE  \n",
              "1      UTTHITA TRIKONASANA or EXTENDED TRIANGLE POSE  \n",
              "2                 VIRABHADRASANA 2 or WARRIOR POSE 2  \n",
              "3    UTTHITA PARSVAKONASANA or EXTENDED SIDE STRETCH  \n",
              "4           PARSVOTTANASANA or INTENSE TORSO STRETCH  \n",
              "..                                               ...  \n",
              "507                             Kukkutasana(Rooster)  \n",
              "508                    Karandavasana(Himalayan Duck)  \n",
              "509                                Lolasana(Pendant)  \n",
              "510      Dvi Pada Viparita Dandasana(Inverted Staff)  \n",
              "511                     Supta Konasana(Supine Angle)  \n",
              "\n",
              "[512 rows x 3 columns]"
            ],
            "text/html": [
              "\n",
              "  <div id=\"df-07518c26-e79d-41b1-9f67-aca89c0480c7\">\n",
              "    <div class=\"colab-df-container\">\n",
              "      <div>\n",
              "<style scoped>\n",
              "    .dataframe tbody tr th:only-of-type {\n",
              "        vertical-align: middle;\n",
              "    }\n",
              "\n",
              "    .dataframe tbody tr th {\n",
              "        vertical-align: top;\n",
              "    }\n",
              "\n",
              "    .dataframe thead th {\n",
              "        text-align: right;\n",
              "    }\n",
              "</style>\n",
              "<table border=\"1\" class=\"dataframe\">\n",
              "  <thead>\n",
              "    <tr style=\"text-align: right;\">\n",
              "      <th></th>\n",
              "      <th>index</th>\n",
              "      <th>Benefits</th>\n",
              "      <th>Yoga Asan</th>\n",
              "    </tr>\n",
              "  </thead>\n",
              "  <tbody>\n",
              "    <tr>\n",
              "      <th>0</th>\n",
              "      <td>0</td>\n",
              "      <td>Corrects bad posture by straightening the spin...</td>\n",
              "      <td>TADASANA or MOUNTAIN POSTURE</td>\n",
              "    </tr>\n",
              "    <tr>\n",
              "      <th>1</th>\n",
              "      <td>1</td>\n",
              "      <td>Relieves gastritis indigestion acidity and fla...</td>\n",
              "      <td>UTTHITA TRIKONASANA or EXTENDED TRIANGLE POSE</td>\n",
              "    </tr>\n",
              "    <tr>\n",
              "      <th>2</th>\n",
              "      <td>2</td>\n",
              "      <td>Improves breathing capacity by expanding the c...</td>\n",
              "      <td>VIRABHADRASANA 2 or WARRIOR POSE 2</td>\n",
              "    </tr>\n",
              "    <tr>\n",
              "      <th>3</th>\n",
              "      <td>3</td>\n",
              "      <td>Enhances lung capacity , Tones the muscles of ...</td>\n",
              "      <td>UTTHITA PARSVAKONASANA or EXTENDED SIDE STRETCH</td>\n",
              "    </tr>\n",
              "    <tr>\n",
              "      <th>4</th>\n",
              "      <td>4</td>\n",
              "      <td>Cools the brain and soothes the nerves, Reliev...</td>\n",
              "      <td>PARSVOTTANASANA or INTENSE TORSO STRETCH</td>\n",
              "    </tr>\n",
              "    <tr>\n",
              "      <th>...</th>\n",
              "      <td>...</td>\n",
              "      <td>...</td>\n",
              "      <td>...</td>\n",
              "    </tr>\n",
              "    <tr>\n",
              "      <th>507</th>\n",
              "      <td>583</td>\n",
              "      <td>Strengthens core, arms, shoulders, elbows and ...</td>\n",
              "      <td>Kukkutasana(Rooster)</td>\n",
              "    </tr>\n",
              "    <tr>\n",
              "      <th>508</th>\n",
              "      <td>584</td>\n",
              "      <td>Strengthens core, arms, and shoulders. Improve...</td>\n",
              "      <td>Karandavasana(Himalayan Duck)</td>\n",
              "    </tr>\n",
              "    <tr>\n",
              "      <th>509</th>\n",
              "      <td>585</td>\n",
              "      <td>Strengthens the core and arms.</td>\n",
              "      <td>Lolasana(Pendant)</td>\n",
              "    </tr>\n",
              "    <tr>\n",
              "      <th>510</th>\n",
              "      <td>586</td>\n",
              "      <td>Stretches the entire front body and opens the ...</td>\n",
              "      <td>Dvi Pada Viparita Dandasana(Inverted Staff)</td>\n",
              "    </tr>\n",
              "    <tr>\n",
              "      <th>511</th>\n",
              "      <td>587</td>\n",
              "      <td>Stretches the shoulders and spine</td>\n",
              "      <td>Supta Konasana(Supine Angle)</td>\n",
              "    </tr>\n",
              "  </tbody>\n",
              "</table>\n",
              "<p>512 rows × 3 columns</p>\n",
              "</div>\n",
              "      <button class=\"colab-df-convert\" onclick=\"convertToInteractive('df-07518c26-e79d-41b1-9f67-aca89c0480c7')\"\n",
              "              title=\"Convert this dataframe to an interactive table.\"\n",
              "              style=\"display:none;\">\n",
              "        \n",
              "  <svg xmlns=\"http://www.w3.org/2000/svg\" height=\"24px\"viewBox=\"0 0 24 24\"\n",
              "       width=\"24px\">\n",
              "    <path d=\"M0 0h24v24H0V0z\" fill=\"none\"/>\n",
              "    <path d=\"M18.56 5.44l.94 2.06.94-2.06 2.06-.94-2.06-.94-.94-2.06-.94 2.06-2.06.94zm-11 1L8.5 8.5l.94-2.06 2.06-.94-2.06-.94L8.5 2.5l-.94 2.06-2.06.94zm10 10l.94 2.06.94-2.06 2.06-.94-2.06-.94-.94-2.06-.94 2.06-2.06.94z\"/><path d=\"M17.41 7.96l-1.37-1.37c-.4-.4-.92-.59-1.43-.59-.52 0-1.04.2-1.43.59L10.3 9.45l-7.72 7.72c-.78.78-.78 2.05 0 2.83L4 21.41c.39.39.9.59 1.41.59.51 0 1.02-.2 1.41-.59l7.78-7.78 2.81-2.81c.8-.78.8-2.07 0-2.86zM5.41 20L4 18.59l7.72-7.72 1.47 1.35L5.41 20z\"/>\n",
              "  </svg>\n",
              "      </button>\n",
              "      \n",
              "  <style>\n",
              "    .colab-df-container {\n",
              "      display:flex;\n",
              "      flex-wrap:wrap;\n",
              "      gap: 12px;\n",
              "    }\n",
              "\n",
              "    .colab-df-convert {\n",
              "      background-color: #E8F0FE;\n",
              "      border: none;\n",
              "      border-radius: 50%;\n",
              "      cursor: pointer;\n",
              "      display: none;\n",
              "      fill: #1967D2;\n",
              "      height: 32px;\n",
              "      padding: 0 0 0 0;\n",
              "      width: 32px;\n",
              "    }\n",
              "\n",
              "    .colab-df-convert:hover {\n",
              "      background-color: #E2EBFA;\n",
              "      box-shadow: 0px 1px 2px rgba(60, 64, 67, 0.3), 0px 1px 3px 1px rgba(60, 64, 67, 0.15);\n",
              "      fill: #174EA6;\n",
              "    }\n",
              "\n",
              "    [theme=dark] .colab-df-convert {\n",
              "      background-color: #3B4455;\n",
              "      fill: #D2E3FC;\n",
              "    }\n",
              "\n",
              "    [theme=dark] .colab-df-convert:hover {\n",
              "      background-color: #434B5C;\n",
              "      box-shadow: 0px 1px 3px 1px rgba(0, 0, 0, 0.15);\n",
              "      filter: drop-shadow(0px 1px 2px rgba(0, 0, 0, 0.3));\n",
              "      fill: #FFFFFF;\n",
              "    }\n",
              "  </style>\n",
              "\n",
              "      <script>\n",
              "        const buttonEl =\n",
              "          document.querySelector('#df-07518c26-e79d-41b1-9f67-aca89c0480c7 button.colab-df-convert');\n",
              "        buttonEl.style.display =\n",
              "          google.colab.kernel.accessAllowed ? 'block' : 'none';\n",
              "\n",
              "        async function convertToInteractive(key) {\n",
              "          const element = document.querySelector('#df-07518c26-e79d-41b1-9f67-aca89c0480c7');\n",
              "          const dataTable =\n",
              "            await google.colab.kernel.invokeFunction('convertToInteractive',\n",
              "                                                     [key], {});\n",
              "          if (!dataTable) return;\n",
              "\n",
              "          const docLinkHtml = 'Like what you see? Visit the ' +\n",
              "            '<a target=\"_blank\" href=https://colab.research.google.com/notebooks/data_table.ipynb>data table notebook</a>'\n",
              "            + ' to learn more about interactive tables.';\n",
              "          element.innerHTML = '';\n",
              "          dataTable['output_type'] = 'display_data';\n",
              "          await google.colab.output.renderOutput(dataTable, element);\n",
              "          const docLink = document.createElement('div');\n",
              "          docLink.innerHTML = docLinkHtml;\n",
              "          element.appendChild(docLink);\n",
              "        }\n",
              "      </script>\n",
              "    </div>\n",
              "  </div>\n",
              "  "
            ]
          },
          "metadata": {},
          "execution_count": 10
        }
      ]
    },
    {
      "cell_type": "code",
      "source": [
        "data.shape    "
      ],
      "metadata": {
        "colab": {
          "base_uri": "https://localhost:8080/"
        },
        "id": "Kwba7Lit7DNS",
        "outputId": "1362d370-c67c-4e23-cdff-d8a3de85fbbb"
      },
      "execution_count": null,
      "outputs": [
        {
          "output_type": "execute_result",
          "data": {
            "text/plain": [
              "(512, 3)"
            ]
          },
          "metadata": {},
          "execution_count": 11
        }
      ]
    },
    {
      "cell_type": "code",
      "source": [
        "data.dtypes"
      ],
      "metadata": {
        "colab": {
          "base_uri": "https://localhost:8080/"
        },
        "id": "NLl1XMla7K0F",
        "outputId": "85a806c2-305f-498f-a6d0-295f90fd182f"
      },
      "execution_count": null,
      "outputs": [
        {
          "output_type": "execute_result",
          "data": {
            "text/plain": [
              "index         int64\n",
              "Benefits     object\n",
              "Yoga Asan    object\n",
              "dtype: object"
            ]
          },
          "metadata": {},
          "execution_count": 12
        }
      ]
    },
    {
      "cell_type": "code",
      "source": [
        "  data[x2].value_counts()"
      ],
      "metadata": {
        "colab": {
          "base_uri": "https://localhost:8080/"
        },
        "id": "XnIj9s7q7K3M",
        "outputId": "afca16da-45ba-4743-c815-a7eeedc95906"
      },
      "execution_count": null,
      "outputs": [
        {
          "output_type": "execute_result",
          "data": {
            "text/plain": [
              "Bharadvajasana                    3\n",
              "BHARADVAJASANA                    3\n",
              "Karnapidasana                     3\n",
              "Marichyasana                      3\n",
              "Padmasana                         3\n",
              "                                 ..\n",
              "Skandasana                        1\n",
              "Sahaja Navasana                   1\n",
              "Utkata Konasana                   1\n",
              "Supta Padangusthasana A Straps    1\n",
              "Supta Konasana(Supine Angle)      1\n",
              "Name: Yoga Asan, Length: 461, dtype: int64"
            ]
          },
          "metadata": {},
          "execution_count": 13
        }
      ]
    },
    {
      "cell_type": "code",
      "source": [
        "data.head()"
      ],
      "metadata": {
        "colab": {
          "base_uri": "https://localhost:8080/",
          "height": 206
        },
        "id": "YuoUi7Ey7K6L",
        "outputId": "b11fc8e6-ff48-4d55-f9b7-e43d2ce45f19"
      },
      "execution_count": null,
      "outputs": [
        {
          "output_type": "execute_result",
          "data": {
            "text/plain": [
              "   index                                           Benefits  \\\n",
              "0      0  Corrects bad posture by straightening the spin...   \n",
              "1      1  Relieves gastritis indigestion acidity and fla...   \n",
              "2      2  Improves breathing capacity by expanding the c...   \n",
              "3      3  Enhances lung capacity , Tones the muscles of ...   \n",
              "4      4  Cools the brain and soothes the nerves, Reliev...   \n",
              "\n",
              "                                         Yoga Asan  \n",
              "0                     TADASANA or MOUNTAIN POSTURE  \n",
              "1    UTTHITA TRIKONASANA or EXTENDED TRIANGLE POSE  \n",
              "2               VIRABHADRASANA 2 or WARRIOR POSE 2  \n",
              "3  UTTHITA PARSVAKONASANA or EXTENDED SIDE STRETCH  \n",
              "4         PARSVOTTANASANA or INTENSE TORSO STRETCH  "
            ],
            "text/html": [
              "\n",
              "  <div id=\"df-bc80dc9c-f50c-4857-b97d-3480e92ab353\">\n",
              "    <div class=\"colab-df-container\">\n",
              "      <div>\n",
              "<style scoped>\n",
              "    .dataframe tbody tr th:only-of-type {\n",
              "        vertical-align: middle;\n",
              "    }\n",
              "\n",
              "    .dataframe tbody tr th {\n",
              "        vertical-align: top;\n",
              "    }\n",
              "\n",
              "    .dataframe thead th {\n",
              "        text-align: right;\n",
              "    }\n",
              "</style>\n",
              "<table border=\"1\" class=\"dataframe\">\n",
              "  <thead>\n",
              "    <tr style=\"text-align: right;\">\n",
              "      <th></th>\n",
              "      <th>index</th>\n",
              "      <th>Benefits</th>\n",
              "      <th>Yoga Asan</th>\n",
              "    </tr>\n",
              "  </thead>\n",
              "  <tbody>\n",
              "    <tr>\n",
              "      <th>0</th>\n",
              "      <td>0</td>\n",
              "      <td>Corrects bad posture by straightening the spin...</td>\n",
              "      <td>TADASANA or MOUNTAIN POSTURE</td>\n",
              "    </tr>\n",
              "    <tr>\n",
              "      <th>1</th>\n",
              "      <td>1</td>\n",
              "      <td>Relieves gastritis indigestion acidity and fla...</td>\n",
              "      <td>UTTHITA TRIKONASANA or EXTENDED TRIANGLE POSE</td>\n",
              "    </tr>\n",
              "    <tr>\n",
              "      <th>2</th>\n",
              "      <td>2</td>\n",
              "      <td>Improves breathing capacity by expanding the c...</td>\n",
              "      <td>VIRABHADRASANA 2 or WARRIOR POSE 2</td>\n",
              "    </tr>\n",
              "    <tr>\n",
              "      <th>3</th>\n",
              "      <td>3</td>\n",
              "      <td>Enhances lung capacity , Tones the muscles of ...</td>\n",
              "      <td>UTTHITA PARSVAKONASANA or EXTENDED SIDE STRETCH</td>\n",
              "    </tr>\n",
              "    <tr>\n",
              "      <th>4</th>\n",
              "      <td>4</td>\n",
              "      <td>Cools the brain and soothes the nerves, Reliev...</td>\n",
              "      <td>PARSVOTTANASANA or INTENSE TORSO STRETCH</td>\n",
              "    </tr>\n",
              "  </tbody>\n",
              "</table>\n",
              "</div>\n",
              "      <button class=\"colab-df-convert\" onclick=\"convertToInteractive('df-bc80dc9c-f50c-4857-b97d-3480e92ab353')\"\n",
              "              title=\"Convert this dataframe to an interactive table.\"\n",
              "              style=\"display:none;\">\n",
              "        \n",
              "  <svg xmlns=\"http://www.w3.org/2000/svg\" height=\"24px\"viewBox=\"0 0 24 24\"\n",
              "       width=\"24px\">\n",
              "    <path d=\"M0 0h24v24H0V0z\" fill=\"none\"/>\n",
              "    <path d=\"M18.56 5.44l.94 2.06.94-2.06 2.06-.94-2.06-.94-.94-2.06-.94 2.06-2.06.94zm-11 1L8.5 8.5l.94-2.06 2.06-.94-2.06-.94L8.5 2.5l-.94 2.06-2.06.94zm10 10l.94 2.06.94-2.06 2.06-.94-2.06-.94-.94-2.06-.94 2.06-2.06.94z\"/><path d=\"M17.41 7.96l-1.37-1.37c-.4-.4-.92-.59-1.43-.59-.52 0-1.04.2-1.43.59L10.3 9.45l-7.72 7.72c-.78.78-.78 2.05 0 2.83L4 21.41c.39.39.9.59 1.41.59.51 0 1.02-.2 1.41-.59l7.78-7.78 2.81-2.81c.8-.78.8-2.07 0-2.86zM5.41 20L4 18.59l7.72-7.72 1.47 1.35L5.41 20z\"/>\n",
              "  </svg>\n",
              "      </button>\n",
              "      \n",
              "  <style>\n",
              "    .colab-df-container {\n",
              "      display:flex;\n",
              "      flex-wrap:wrap;\n",
              "      gap: 12px;\n",
              "    }\n",
              "\n",
              "    .colab-df-convert {\n",
              "      background-color: #E8F0FE;\n",
              "      border: none;\n",
              "      border-radius: 50%;\n",
              "      cursor: pointer;\n",
              "      display: none;\n",
              "      fill: #1967D2;\n",
              "      height: 32px;\n",
              "      padding: 0 0 0 0;\n",
              "      width: 32px;\n",
              "    }\n",
              "\n",
              "    .colab-df-convert:hover {\n",
              "      background-color: #E2EBFA;\n",
              "      box-shadow: 0px 1px 2px rgba(60, 64, 67, 0.3), 0px 1px 3px 1px rgba(60, 64, 67, 0.15);\n",
              "      fill: #174EA6;\n",
              "    }\n",
              "\n",
              "    [theme=dark] .colab-df-convert {\n",
              "      background-color: #3B4455;\n",
              "      fill: #D2E3FC;\n",
              "    }\n",
              "\n",
              "    [theme=dark] .colab-df-convert:hover {\n",
              "      background-color: #434B5C;\n",
              "      box-shadow: 0px 1px 3px 1px rgba(0, 0, 0, 0.15);\n",
              "      filter: drop-shadow(0px 1px 2px rgba(0, 0, 0, 0.3));\n",
              "      fill: #FFFFFF;\n",
              "    }\n",
              "  </style>\n",
              "\n",
              "      <script>\n",
              "        const buttonEl =\n",
              "          document.querySelector('#df-bc80dc9c-f50c-4857-b97d-3480e92ab353 button.colab-df-convert');\n",
              "        buttonEl.style.display =\n",
              "          google.colab.kernel.accessAllowed ? 'block' : 'none';\n",
              "\n",
              "        async function convertToInteractive(key) {\n",
              "          const element = document.querySelector('#df-bc80dc9c-f50c-4857-b97d-3480e92ab353');\n",
              "          const dataTable =\n",
              "            await google.colab.kernel.invokeFunction('convertToInteractive',\n",
              "                                                     [key], {});\n",
              "          if (!dataTable) return;\n",
              "\n",
              "          const docLinkHtml = 'Like what you see? Visit the ' +\n",
              "            '<a target=\"_blank\" href=https://colab.research.google.com/notebooks/data_table.ipynb>data table notebook</a>'\n",
              "            + ' to learn more about interactive tables.';\n",
              "          element.innerHTML = '';\n",
              "          dataTable['output_type'] = 'display_data';\n",
              "          await google.colab.output.renderOutput(dataTable, element);\n",
              "          const docLink = document.createElement('div');\n",
              "          docLink.innerHTML = docLinkHtml;\n",
              "          element.appendChild(docLink);\n",
              "        }\n",
              "      </script>\n",
              "    </div>\n",
              "  </div>\n",
              "  "
            ]
          },
          "metadata": {},
          "execution_count": 14
        }
      ]
    },
    {
      "cell_type": "code",
      "source": [
        "def example_complain(index):\n",
        "    example = data[data.index == index][[x1,x2]].values[0]\n",
        "    if len(example) > 0:\n",
        "        print(example[0])\n",
        "        print()\n",
        "        print('Category:', example[1])"
      ],
      "metadata": {
        "id": "z8ZzfyCu7K8-"
      },
      "execution_count": null,
      "outputs": []
    },
    {
      "cell_type": "code",
      "source": [
        "example_complain(0)"
      ],
      "metadata": {
        "colab": {
          "base_uri": "https://localhost:8080/"
        },
        "id": "7GJ-fEqZ7K_P",
        "outputId": "908565de-83f5-4fb4-b54d-c3d1617d4291"
      },
      "execution_count": null,
      "outputs": [
        {
          "output_type": "stream",
          "name": "stdout",
          "text": [
            "Corrects bad posture by straightening the spine, Improves the alignment of your body, Counters the degenerative effects of ageing \n",
            "on the spine legs and feet, Tones the buttock muscles\n",
            "\n",
            "Category: TADASANA or MOUNTAIN POSTURE\n"
          ]
        }
      ]
    },
    {
      "cell_type": "code",
      "source": [
        "data = data.reset_index(drop=True)\n",
        "REPLACE_BY_SPACE_RE = re.compile('[/(){}\\[\\]\\|@,;]')\n",
        "BAD_SYMBOLS_RE = re.compile('[^a-z ]')\n",
        "STOPWORDS = set(stopwords.words('english'))\n",
        "\n",
        "def clean_text(text):\n",
        "    \"\"\"\n",
        "        text: a string\n",
        "        \n",
        "        return: modified initial string\n",
        "    \"\"\"\n",
        "    text = text.lower() # lowercase text\n",
        "    text = REPLACE_BY_SPACE_RE.sub(' ', text) # replace REPLACE_BY_SPACE_RE symbols by space in text. substitute the matched string in REPLACE_BY_SPACE_RE with space.\n",
        "    text = BAD_SYMBOLS_RE.sub('', text) # remove symbols which are in BAD_SYMBOLS_RE from text. substitute the matched string in BAD_SYMBOLS_RE with nothing. \n",
        "    text = text.replace('x', '')\n",
        "#    text = re.sub(r'\\W+', '', text)\n",
        "    text = ' '.join(word for word in text.split() if word not in STOPWORDS) # remove stopwors from text\n",
        "    return text\n",
        "data[x1] = data[x1].apply(clean_text)"
      ],
      "metadata": {
        "id": "7lmgNkWc7LBv"
      },
      "execution_count": null,
      "outputs": []
    },
    {
      "cell_type": "code",
      "source": [
        "REPLACE_BY_SPACE_RE = re.compile('[/(){}\\[\\]\\|@,;]')\n",
        "BAD_SYMBOLS_RE = re.compile('[^a-z ]')\n",
        "STOPWORDS = set(stopwords.words('english'))\n",
        "\n",
        "def clean_text(text):\n",
        "    \"\"\"\n",
        "        text: a string\n",
        "        \n",
        "        return: modified initial string\n",
        "    \"\"\"\n",
        "    text = text.lower() # lowercase text\n",
        "    text = REPLACE_BY_SPACE_RE.sub(' ', text) # replace REPLACE_BY_SPACE_RE symbols by space in text. substitute the matched string in REPLACE_BY_SPACE_RE with space.\n",
        "    text = BAD_SYMBOLS_RE.sub('', text) # remove symbols which are in BAD_SYMBOLS_RE from text. substitute the matched string in BAD_SYMBOLS_RE with nothing. \n",
        "    text = text.replace('x', '')\n",
        "#    text = re.sub(r'\\W+', '', text)\n",
        "    text = ' '.join(word for word in text.split() if word not in STOPWORDS) # remove stopwors from text\n",
        "    return text\n",
        "data[x2] = data[x2].apply(clean_text)\n"
      ],
      "metadata": {
        "id": "6nViaQS1Vq61"
      },
      "execution_count": null,
      "outputs": []
    },
    {
      "cell_type": "code",
      "source": [
        "for i in range(len(data[x2])):\n",
        "  if data[x2][i]==None:\n",
        "    continue\n",
        "  for j in range(len(data[x2])):\n",
        "    if i!=j and data[x2][j]!=None:\n",
        "      if data[x2][i]==data[x2][j]:\n",
        "        data[x1][i]=data[x1][i]+' '+data[x1][j]\n",
        "        data[x1][j]=None;\n",
        "        data[x2][j]=None;\n",
        "        "
      ],
      "metadata": {
        "colab": {
          "base_uri": "https://localhost:8080/"
        },
        "id": "gXbdZ_TIZGWf",
        "outputId": "40874b96-655d-44ad-9b28-120def18d185"
      },
      "execution_count": null,
      "outputs": [
        {
          "output_type": "stream",
          "name": "stderr",
          "text": [
            "/usr/local/lib/python3.7/dist-packages/ipykernel_launcher.py:7: SettingWithCopyWarning:\n",
            "\n",
            "\n",
            "A value is trying to be set on a copy of a slice from a DataFrame\n",
            "\n",
            "See the caveats in the documentation: https://pandas.pydata.org/pandas-docs/stable/user_guide/indexing.html#returning-a-view-versus-a-copy\n",
            "\n",
            "/usr/local/lib/python3.7/dist-packages/ipykernel_launcher.py:8: SettingWithCopyWarning:\n",
            "\n",
            "\n",
            "A value is trying to be set on a copy of a slice from a DataFrame\n",
            "\n",
            "See the caveats in the documentation: https://pandas.pydata.org/pandas-docs/stable/user_guide/indexing.html#returning-a-view-versus-a-copy\n",
            "\n",
            "/usr/local/lib/python3.7/dist-packages/ipykernel_launcher.py:9: SettingWithCopyWarning:\n",
            "\n",
            "\n",
            "A value is trying to be set on a copy of a slice from a DataFrame\n",
            "\n",
            "See the caveats in the documentation: https://pandas.pydata.org/pandas-docs/stable/user_guide/indexing.html#returning-a-view-versus-a-copy\n",
            "\n"
          ]
        }
      ]
    },
    {
      "cell_type": "code",
      "source": [
        "data=data.dropna()\n",
        "data = data.reset_index(drop=True)"
      ],
      "metadata": {
        "id": "IYirqTgigIWN"
      },
      "execution_count": null,
      "outputs": []
    },
    {
      "cell_type": "code",
      "source": [
        "data"
      ],
      "metadata": {
        "colab": {
          "base_uri": "https://localhost:8080/",
          "height": 424
        },
        "id": "HcLEBuiUZGn1",
        "outputId": "cff5bca1-a0ac-48d4-81d2-c4a7b76345d1"
      },
      "execution_count": null,
      "outputs": [
        {
          "output_type": "execute_result",
          "data": {
            "text/plain": [
              "     index                                           Benefits  \\\n",
              "0        0  corrects bad posture straightening spine impro...   \n",
              "1        1  relieves gastritis indigestion acidity flatule...   \n",
              "2        2  improves breathing capacity epanding chest hel...   \n",
              "3        3  enhances lung capacity tones muscles heart rel...   \n",
              "4        4  cools brain soothes nerves relieves arthritis ...   \n",
              "..     ...                                                ...   \n",
              "430    583  strengthens core arms shoulders elbows wrists ...   \n",
              "431    584  strengthens core arms shoulders improves fleib...   \n",
              "432    585                              strengthens core arms   \n",
              "433    586  stretches entire front body opens chest tones ...   \n",
              "434    587                          stretches shoulders spine   \n",
              "\n",
              "                                       Yoga Asan  \n",
              "0                      tadasana mountain posture  \n",
              "1      utthita trikonasana etended triangle pose  \n",
              "2                    virabhadrasana warrior pose  \n",
              "3    utthita parsvakonasana etended side stretch  \n",
              "4          parsvottanasana intense torso stretch  \n",
              "..                                           ...  \n",
              "430                          kukkutasana rooster  \n",
              "431                 karandavasana himalayan duck  \n",
              "432                             lolasana pendant  \n",
              "433   dvi pada viparita dandasana inverted staff  \n",
              "434                  supta konasana supine angle  \n",
              "\n",
              "[435 rows x 3 columns]"
            ],
            "text/html": [
              "\n",
              "  <div id=\"df-9d4ed9ad-dd6f-4f9e-8ebb-f6d3ac3bafb2\">\n",
              "    <div class=\"colab-df-container\">\n",
              "      <div>\n",
              "<style scoped>\n",
              "    .dataframe tbody tr th:only-of-type {\n",
              "        vertical-align: middle;\n",
              "    }\n",
              "\n",
              "    .dataframe tbody tr th {\n",
              "        vertical-align: top;\n",
              "    }\n",
              "\n",
              "    .dataframe thead th {\n",
              "        text-align: right;\n",
              "    }\n",
              "</style>\n",
              "<table border=\"1\" class=\"dataframe\">\n",
              "  <thead>\n",
              "    <tr style=\"text-align: right;\">\n",
              "      <th></th>\n",
              "      <th>index</th>\n",
              "      <th>Benefits</th>\n",
              "      <th>Yoga Asan</th>\n",
              "    </tr>\n",
              "  </thead>\n",
              "  <tbody>\n",
              "    <tr>\n",
              "      <th>0</th>\n",
              "      <td>0</td>\n",
              "      <td>corrects bad posture straightening spine impro...</td>\n",
              "      <td>tadasana mountain posture</td>\n",
              "    </tr>\n",
              "    <tr>\n",
              "      <th>1</th>\n",
              "      <td>1</td>\n",
              "      <td>relieves gastritis indigestion acidity flatule...</td>\n",
              "      <td>utthita trikonasana etended triangle pose</td>\n",
              "    </tr>\n",
              "    <tr>\n",
              "      <th>2</th>\n",
              "      <td>2</td>\n",
              "      <td>improves breathing capacity epanding chest hel...</td>\n",
              "      <td>virabhadrasana warrior pose</td>\n",
              "    </tr>\n",
              "    <tr>\n",
              "      <th>3</th>\n",
              "      <td>3</td>\n",
              "      <td>enhances lung capacity tones muscles heart rel...</td>\n",
              "      <td>utthita parsvakonasana etended side stretch</td>\n",
              "    </tr>\n",
              "    <tr>\n",
              "      <th>4</th>\n",
              "      <td>4</td>\n",
              "      <td>cools brain soothes nerves relieves arthritis ...</td>\n",
              "      <td>parsvottanasana intense torso stretch</td>\n",
              "    </tr>\n",
              "    <tr>\n",
              "      <th>...</th>\n",
              "      <td>...</td>\n",
              "      <td>...</td>\n",
              "      <td>...</td>\n",
              "    </tr>\n",
              "    <tr>\n",
              "      <th>430</th>\n",
              "      <td>583</td>\n",
              "      <td>strengthens core arms shoulders elbows wrists ...</td>\n",
              "      <td>kukkutasana rooster</td>\n",
              "    </tr>\n",
              "    <tr>\n",
              "      <th>431</th>\n",
              "      <td>584</td>\n",
              "      <td>strengthens core arms shoulders improves fleib...</td>\n",
              "      <td>karandavasana himalayan duck</td>\n",
              "    </tr>\n",
              "    <tr>\n",
              "      <th>432</th>\n",
              "      <td>585</td>\n",
              "      <td>strengthens core arms</td>\n",
              "      <td>lolasana pendant</td>\n",
              "    </tr>\n",
              "    <tr>\n",
              "      <th>433</th>\n",
              "      <td>586</td>\n",
              "      <td>stretches entire front body opens chest tones ...</td>\n",
              "      <td>dvi pada viparita dandasana inverted staff</td>\n",
              "    </tr>\n",
              "    <tr>\n",
              "      <th>434</th>\n",
              "      <td>587</td>\n",
              "      <td>stretches shoulders spine</td>\n",
              "      <td>supta konasana supine angle</td>\n",
              "    </tr>\n",
              "  </tbody>\n",
              "</table>\n",
              "<p>435 rows × 3 columns</p>\n",
              "</div>\n",
              "      <button class=\"colab-df-convert\" onclick=\"convertToInteractive('df-9d4ed9ad-dd6f-4f9e-8ebb-f6d3ac3bafb2')\"\n",
              "              title=\"Convert this dataframe to an interactive table.\"\n",
              "              style=\"display:none;\">\n",
              "        \n",
              "  <svg xmlns=\"http://www.w3.org/2000/svg\" height=\"24px\"viewBox=\"0 0 24 24\"\n",
              "       width=\"24px\">\n",
              "    <path d=\"M0 0h24v24H0V0z\" fill=\"none\"/>\n",
              "    <path d=\"M18.56 5.44l.94 2.06.94-2.06 2.06-.94-2.06-.94-.94-2.06-.94 2.06-2.06.94zm-11 1L8.5 8.5l.94-2.06 2.06-.94-2.06-.94L8.5 2.5l-.94 2.06-2.06.94zm10 10l.94 2.06.94-2.06 2.06-.94-2.06-.94-.94-2.06-.94 2.06-2.06.94z\"/><path d=\"M17.41 7.96l-1.37-1.37c-.4-.4-.92-.59-1.43-.59-.52 0-1.04.2-1.43.59L10.3 9.45l-7.72 7.72c-.78.78-.78 2.05 0 2.83L4 21.41c.39.39.9.59 1.41.59.51 0 1.02-.2 1.41-.59l7.78-7.78 2.81-2.81c.8-.78.8-2.07 0-2.86zM5.41 20L4 18.59l7.72-7.72 1.47 1.35L5.41 20z\"/>\n",
              "  </svg>\n",
              "      </button>\n",
              "      \n",
              "  <style>\n",
              "    .colab-df-container {\n",
              "      display:flex;\n",
              "      flex-wrap:wrap;\n",
              "      gap: 12px;\n",
              "    }\n",
              "\n",
              "    .colab-df-convert {\n",
              "      background-color: #E8F0FE;\n",
              "      border: none;\n",
              "      border-radius: 50%;\n",
              "      cursor: pointer;\n",
              "      display: none;\n",
              "      fill: #1967D2;\n",
              "      height: 32px;\n",
              "      padding: 0 0 0 0;\n",
              "      width: 32px;\n",
              "    }\n",
              "\n",
              "    .colab-df-convert:hover {\n",
              "      background-color: #E2EBFA;\n",
              "      box-shadow: 0px 1px 2px rgba(60, 64, 67, 0.3), 0px 1px 3px 1px rgba(60, 64, 67, 0.15);\n",
              "      fill: #174EA6;\n",
              "    }\n",
              "\n",
              "    [theme=dark] .colab-df-convert {\n",
              "      background-color: #3B4455;\n",
              "      fill: #D2E3FC;\n",
              "    }\n",
              "\n",
              "    [theme=dark] .colab-df-convert:hover {\n",
              "      background-color: #434B5C;\n",
              "      box-shadow: 0px 1px 3px 1px rgba(0, 0, 0, 0.15);\n",
              "      filter: drop-shadow(0px 1px 2px rgba(0, 0, 0, 0.3));\n",
              "      fill: #FFFFFF;\n",
              "    }\n",
              "  </style>\n",
              "\n",
              "      <script>\n",
              "        const buttonEl =\n",
              "          document.querySelector('#df-9d4ed9ad-dd6f-4f9e-8ebb-f6d3ac3bafb2 button.colab-df-convert');\n",
              "        buttonEl.style.display =\n",
              "          google.colab.kernel.accessAllowed ? 'block' : 'none';\n",
              "\n",
              "        async function convertToInteractive(key) {\n",
              "          const element = document.querySelector('#df-9d4ed9ad-dd6f-4f9e-8ebb-f6d3ac3bafb2');\n",
              "          const dataTable =\n",
              "            await google.colab.kernel.invokeFunction('convertToInteractive',\n",
              "                                                     [key], {});\n",
              "          if (!dataTable) return;\n",
              "\n",
              "          const docLinkHtml = 'Like what you see? Visit the ' +\n",
              "            '<a target=\"_blank\" href=https://colab.research.google.com/notebooks/data_table.ipynb>data table notebook</a>'\n",
              "            + ' to learn more about interactive tables.';\n",
              "          element.innerHTML = '';\n",
              "          dataTable['output_type'] = 'display_data';\n",
              "          await google.colab.output.renderOutput(dataTable, element);\n",
              "          const docLink = document.createElement('div');\n",
              "          docLink.innerHTML = docLinkHtml;\n",
              "          element.appendChild(docLink);\n",
              "        }\n",
              "      </script>\n",
              "    </div>\n",
              "  </div>\n",
              "  "
            ]
          },
          "metadata": {},
          "execution_count": 21
        }
      ]
    },
    {
      "cell_type": "code",
      "source": [
        ""
      ],
      "metadata": {
        "id": "oLtNOqWvWi2f"
      },
      "execution_count": null,
      "outputs": []
    },
    {
      "cell_type": "code",
      "source": [
        "example_complain(1)"
      ],
      "metadata": {
        "colab": {
          "base_uri": "https://localhost:8080/"
        },
        "id": "LdrlVYu57LEa",
        "outputId": "421a9adb-dd6a-4621-a8aa-aeb03713da5d"
      },
      "execution_count": null,
      "outputs": [
        {
          "output_type": "stream",
          "name": "stdout",
          "text": [
            "relieves gastritis indigestion acidity flatulence improves fleibility spine alleviates backache corrects alignment shoulders helps treat neck sprains massages tones pelvic area strengthens ankles reduces discomfort menstruation etended triangle good lengthening spine strengthening thighs torso pose also stretches hips groin hamstrings calves shoulders chest spine\n",
            "\n",
            "Category: utthita trikonasana etended triangle pose\n"
          ]
        }
      ]
    },
    {
      "cell_type": "code",
      "source": [
        "data"
      ],
      "metadata": {
        "colab": {
          "base_uri": "https://localhost:8080/",
          "height": 424
        },
        "id": "9d09Nkr8KuRC",
        "outputId": "ae5e8563-0a92-4cfa-d6a2-4038641c76e1"
      },
      "execution_count": null,
      "outputs": [
        {
          "output_type": "execute_result",
          "data": {
            "text/plain": [
              "     index                                           Benefits  \\\n",
              "0        0  corrects bad posture straightening spine impro...   \n",
              "1        1  relieves gastritis indigestion acidity flatule...   \n",
              "2        2  improves breathing capacity epanding chest hel...   \n",
              "3        3  enhances lung capacity tones muscles heart rel...   \n",
              "4        4  cools brain soothes nerves relieves arthritis ...   \n",
              "..     ...                                                ...   \n",
              "430    583  strengthens core arms shoulders elbows wrists ...   \n",
              "431    584  strengthens core arms shoulders improves fleib...   \n",
              "432    585                              strengthens core arms   \n",
              "433    586  stretches entire front body opens chest tones ...   \n",
              "434    587                          stretches shoulders spine   \n",
              "\n",
              "                                       Yoga Asan  \n",
              "0                      tadasana mountain posture  \n",
              "1      utthita trikonasana etended triangle pose  \n",
              "2                    virabhadrasana warrior pose  \n",
              "3    utthita parsvakonasana etended side stretch  \n",
              "4          parsvottanasana intense torso stretch  \n",
              "..                                           ...  \n",
              "430                          kukkutasana rooster  \n",
              "431                 karandavasana himalayan duck  \n",
              "432                             lolasana pendant  \n",
              "433   dvi pada viparita dandasana inverted staff  \n",
              "434                  supta konasana supine angle  \n",
              "\n",
              "[435 rows x 3 columns]"
            ],
            "text/html": [
              "\n",
              "  <div id=\"df-018b88c9-111d-46ca-ade1-1d2624e49fa1\">\n",
              "    <div class=\"colab-df-container\">\n",
              "      <div>\n",
              "<style scoped>\n",
              "    .dataframe tbody tr th:only-of-type {\n",
              "        vertical-align: middle;\n",
              "    }\n",
              "\n",
              "    .dataframe tbody tr th {\n",
              "        vertical-align: top;\n",
              "    }\n",
              "\n",
              "    .dataframe thead th {\n",
              "        text-align: right;\n",
              "    }\n",
              "</style>\n",
              "<table border=\"1\" class=\"dataframe\">\n",
              "  <thead>\n",
              "    <tr style=\"text-align: right;\">\n",
              "      <th></th>\n",
              "      <th>index</th>\n",
              "      <th>Benefits</th>\n",
              "      <th>Yoga Asan</th>\n",
              "    </tr>\n",
              "  </thead>\n",
              "  <tbody>\n",
              "    <tr>\n",
              "      <th>0</th>\n",
              "      <td>0</td>\n",
              "      <td>corrects bad posture straightening spine impro...</td>\n",
              "      <td>tadasana mountain posture</td>\n",
              "    </tr>\n",
              "    <tr>\n",
              "      <th>1</th>\n",
              "      <td>1</td>\n",
              "      <td>relieves gastritis indigestion acidity flatule...</td>\n",
              "      <td>utthita trikonasana etended triangle pose</td>\n",
              "    </tr>\n",
              "    <tr>\n",
              "      <th>2</th>\n",
              "      <td>2</td>\n",
              "      <td>improves breathing capacity epanding chest hel...</td>\n",
              "      <td>virabhadrasana warrior pose</td>\n",
              "    </tr>\n",
              "    <tr>\n",
              "      <th>3</th>\n",
              "      <td>3</td>\n",
              "      <td>enhances lung capacity tones muscles heart rel...</td>\n",
              "      <td>utthita parsvakonasana etended side stretch</td>\n",
              "    </tr>\n",
              "    <tr>\n",
              "      <th>4</th>\n",
              "      <td>4</td>\n",
              "      <td>cools brain soothes nerves relieves arthritis ...</td>\n",
              "      <td>parsvottanasana intense torso stretch</td>\n",
              "    </tr>\n",
              "    <tr>\n",
              "      <th>...</th>\n",
              "      <td>...</td>\n",
              "      <td>...</td>\n",
              "      <td>...</td>\n",
              "    </tr>\n",
              "    <tr>\n",
              "      <th>430</th>\n",
              "      <td>583</td>\n",
              "      <td>strengthens core arms shoulders elbows wrists ...</td>\n",
              "      <td>kukkutasana rooster</td>\n",
              "    </tr>\n",
              "    <tr>\n",
              "      <th>431</th>\n",
              "      <td>584</td>\n",
              "      <td>strengthens core arms shoulders improves fleib...</td>\n",
              "      <td>karandavasana himalayan duck</td>\n",
              "    </tr>\n",
              "    <tr>\n",
              "      <th>432</th>\n",
              "      <td>585</td>\n",
              "      <td>strengthens core arms</td>\n",
              "      <td>lolasana pendant</td>\n",
              "    </tr>\n",
              "    <tr>\n",
              "      <th>433</th>\n",
              "      <td>586</td>\n",
              "      <td>stretches entire front body opens chest tones ...</td>\n",
              "      <td>dvi pada viparita dandasana inverted staff</td>\n",
              "    </tr>\n",
              "    <tr>\n",
              "      <th>434</th>\n",
              "      <td>587</td>\n",
              "      <td>stretches shoulders spine</td>\n",
              "      <td>supta konasana supine angle</td>\n",
              "    </tr>\n",
              "  </tbody>\n",
              "</table>\n",
              "<p>435 rows × 3 columns</p>\n",
              "</div>\n",
              "      <button class=\"colab-df-convert\" onclick=\"convertToInteractive('df-018b88c9-111d-46ca-ade1-1d2624e49fa1')\"\n",
              "              title=\"Convert this dataframe to an interactive table.\"\n",
              "              style=\"display:none;\">\n",
              "        \n",
              "  <svg xmlns=\"http://www.w3.org/2000/svg\" height=\"24px\"viewBox=\"0 0 24 24\"\n",
              "       width=\"24px\">\n",
              "    <path d=\"M0 0h24v24H0V0z\" fill=\"none\"/>\n",
              "    <path d=\"M18.56 5.44l.94 2.06.94-2.06 2.06-.94-2.06-.94-.94-2.06-.94 2.06-2.06.94zm-11 1L8.5 8.5l.94-2.06 2.06-.94-2.06-.94L8.5 2.5l-.94 2.06-2.06.94zm10 10l.94 2.06.94-2.06 2.06-.94-2.06-.94-.94-2.06-.94 2.06-2.06.94z\"/><path d=\"M17.41 7.96l-1.37-1.37c-.4-.4-.92-.59-1.43-.59-.52 0-1.04.2-1.43.59L10.3 9.45l-7.72 7.72c-.78.78-.78 2.05 0 2.83L4 21.41c.39.39.9.59 1.41.59.51 0 1.02-.2 1.41-.59l7.78-7.78 2.81-2.81c.8-.78.8-2.07 0-2.86zM5.41 20L4 18.59l7.72-7.72 1.47 1.35L5.41 20z\"/>\n",
              "  </svg>\n",
              "      </button>\n",
              "      \n",
              "  <style>\n",
              "    .colab-df-container {\n",
              "      display:flex;\n",
              "      flex-wrap:wrap;\n",
              "      gap: 12px;\n",
              "    }\n",
              "\n",
              "    .colab-df-convert {\n",
              "      background-color: #E8F0FE;\n",
              "      border: none;\n",
              "      border-radius: 50%;\n",
              "      cursor: pointer;\n",
              "      display: none;\n",
              "      fill: #1967D2;\n",
              "      height: 32px;\n",
              "      padding: 0 0 0 0;\n",
              "      width: 32px;\n",
              "    }\n",
              "\n",
              "    .colab-df-convert:hover {\n",
              "      background-color: #E2EBFA;\n",
              "      box-shadow: 0px 1px 2px rgba(60, 64, 67, 0.3), 0px 1px 3px 1px rgba(60, 64, 67, 0.15);\n",
              "      fill: #174EA6;\n",
              "    }\n",
              "\n",
              "    [theme=dark] .colab-df-convert {\n",
              "      background-color: #3B4455;\n",
              "      fill: #D2E3FC;\n",
              "    }\n",
              "\n",
              "    [theme=dark] .colab-df-convert:hover {\n",
              "      background-color: #434B5C;\n",
              "      box-shadow: 0px 1px 3px 1px rgba(0, 0, 0, 0.15);\n",
              "      filter: drop-shadow(0px 1px 2px rgba(0, 0, 0, 0.3));\n",
              "      fill: #FFFFFF;\n",
              "    }\n",
              "  </style>\n",
              "\n",
              "      <script>\n",
              "        const buttonEl =\n",
              "          document.querySelector('#df-018b88c9-111d-46ca-ade1-1d2624e49fa1 button.colab-df-convert');\n",
              "        buttonEl.style.display =\n",
              "          google.colab.kernel.accessAllowed ? 'block' : 'none';\n",
              "\n",
              "        async function convertToInteractive(key) {\n",
              "          const element = document.querySelector('#df-018b88c9-111d-46ca-ade1-1d2624e49fa1');\n",
              "          const dataTable =\n",
              "            await google.colab.kernel.invokeFunction('convertToInteractive',\n",
              "                                                     [key], {});\n",
              "          if (!dataTable) return;\n",
              "\n",
              "          const docLinkHtml = 'Like what you see? Visit the ' +\n",
              "            '<a target=\"_blank\" href=https://colab.research.google.com/notebooks/data_table.ipynb>data table notebook</a>'\n",
              "            + ' to learn more about interactive tables.';\n",
              "          element.innerHTML = '';\n",
              "          dataTable['output_type'] = 'display_data';\n",
              "          await google.colab.output.renderOutput(dataTable, element);\n",
              "          const docLink = document.createElement('div');\n",
              "          docLink.innerHTML = docLinkHtml;\n",
              "          element.appendChild(docLink);\n",
              "        }\n",
              "      </script>\n",
              "    </div>\n",
              "  </div>\n",
              "  "
            ]
          },
          "metadata": {},
          "execution_count": 23
        }
      ]
    },
    {
      "cell_type": "code",
      "source": [
        "# The maximum number of words to be used. (most frequent)\n",
        "MAX_NB_WORDS = 20000\n",
        "# Max number of words in each complaint.\n",
        "MAX_SEQUENCE_LENGTH = 500\n",
        "# This is fixed.\n",
        "EMBEDDING_DIM = 100\n",
        "\n",
        "tokenizer = Tokenizer(num_words=MAX_NB_WORDS, filters='!\"#$%&()*+,-./:;<=>?@[\\]^`{|}~', lower=True)\n",
        "tokenizer.fit_on_texts(data[x1].values)\n",
        "word_index = tokenizer.word_index\n",
        "print('Found %s unique tokens.' % len(word_index))\n"
      ],
      "metadata": {
        "colab": {
          "base_uri": "https://localhost:8080/"
        },
        "id": "uT_5VHQU7LG_",
        "outputId": "4e6ca0b7-2a5b-4b01-9184-cf39b1f99847"
      },
      "execution_count": null,
      "outputs": [
        {
          "output_type": "stream",
          "name": "stdout",
          "text": [
            "Found 2811 unique tokens.\n"
          ]
        }
      ]
    },
    {
      "cell_type": "code",
      "source": [
        "X = tokenizer.texts_to_sequences(data[x1].values)\n",
        "X = pad_sequences(X, maxlen=MAX_SEQUENCE_LENGTH) #made all length same by giving zeros to front\n",
        "print('Shape of data tensor:', X.shape)"
      ],
      "metadata": {
        "colab": {
          "base_uri": "https://localhost:8080/"
        },
        "id": "5tlYXbRo7LJm",
        "outputId": "c9fa1694-3e57-442f-ad85-79f3067ac173"
      },
      "execution_count": null,
      "outputs": [
        {
          "output_type": "stream",
          "name": "stdout",
          "text": [
            "Shape of data tensor: (435, 500)\n"
          ]
        }
      ]
    },
    {
      "cell_type": "code",
      "source": [
        "Y = pd.get_dummies(data[x2]).values #one hot encoding\n",
        "print('Shape of label tensor:', Y.shape)"
      ],
      "metadata": {
        "colab": {
          "base_uri": "https://localhost:8080/"
        },
        "id": "rl4tmSco7LMa",
        "outputId": "f60820d4-e831-43b9-83a9-d7c79aeeb680"
      },
      "execution_count": null,
      "outputs": [
        {
          "output_type": "stream",
          "name": "stdout",
          "text": [
            "Shape of label tensor: (435, 435)\n"
          ]
        }
      ]
    },
    {
      "cell_type": "code",
      "source": [
        "X_train, X_test, Y_train, Y_test = train_test_split(X,Y, test_size = 0.1, random_state = 42)\n",
        "print(X_train.shape,Y_train.shape)\n",
        "print(X_test.shape,Y_test.shape)"
      ],
      "metadata": {
        "colab": {
          "base_uri": "https://localhost:8080/"
        },
        "id": "MAhagLTr7LPU",
        "outputId": "f53adce9-0dd5-41dd-91ac-9ebe94d46ac1"
      },
      "execution_count": null,
      "outputs": [
        {
          "output_type": "stream",
          "name": "stdout",
          "text": [
            "(391, 500) (391, 435)\n",
            "(44, 500) (44, 435)\n"
          ]
        }
      ]
    },
    {
      "cell_type": "code",
      "source": [
        ""
      ],
      "metadata": {
        "id": "rICHXyefYMRO"
      },
      "execution_count": null,
      "outputs": []
    },
    {
      "cell_type": "code",
      "source": [
        "model = Sequential()\n",
        "model.add(Embedding(MAX_NB_WORDS, EMBEDDING_DIM, input_length=X.shape[1]))\n",
        "model.add(SpatialDropout1D(0.2)) # preventing overfitting\n",
        "model.add(LSTM(100)) #100 neurons and output vector size 100\n",
        "model.add(Dense(435, activation='softmax')) # convert vector of numbers to vector of probability\n",
        "model.compile(loss='categorical_crossentropy', optimizer='adam', metrics=['accuracy'])\n",
        "print(model.summary())"
      ],
      "metadata": {
        "colab": {
          "base_uri": "https://localhost:8080/"
        },
        "id": "RhTmmnIx7LSA",
        "outputId": "14c57d97-e717-4d8d-f83c-cdd7abed31eb"
      },
      "execution_count": null,
      "outputs": [
        {
          "output_type": "stream",
          "name": "stdout",
          "text": [
            "Model: \"sequential_1\"\n",
            "_________________________________________________________________\n",
            " Layer (type)                Output Shape              Param #   \n",
            "=================================================================\n",
            " embedding_1 (Embedding)     (None, 500, 100)          2000000   \n",
            "                                                                 \n",
            " spatial_dropout1d_1 (Spatia  (None, 500, 100)         0         \n",
            " lDropout1D)                                                     \n",
            "                                                                 \n",
            " lstm_1 (LSTM)               (None, 100)               80400     \n",
            "                                                                 \n",
            " dense_1 (Dense)             (None, 435)               43935     \n",
            "                                                                 \n",
            "=================================================================\n",
            "Total params: 2,124,335\n",
            "Trainable params: 2,124,335\n",
            "Non-trainable params: 0\n",
            "_________________________________________________________________\n",
            "None\n"
          ]
        }
      ]
    },
    {
      "cell_type": "code",
      "source": [
        "epochs = 100\n",
        "batch_size = 64\n",
        "\n",
        "history = model.fit(X, Y, epochs=epochs, batch_size=batch_size,validation_split=0.1,callbacks=[EarlyStopping(monitor='val_loss', patience=100)])"
      ],
      "metadata": {
        "colab": {
          "base_uri": "https://localhost:8080/"
        },
        "id": "drjW9XcX7LU1",
        "outputId": "38fb28d4-1eab-4219-b57e-907f14f42bed"
      },
      "execution_count": null,
      "outputs": [
        {
          "output_type": "stream",
          "name": "stdout",
          "text": [
            "Epoch 1/100\n",
            "7/7 [==============================] - 8s 717ms/step - loss: 6.0768 - accuracy: 0.0000e+00 - val_loss: 6.0832 - val_accuracy: 0.0000e+00\n",
            "Epoch 2/100\n",
            "7/7 [==============================] - 4s 615ms/step - loss: 6.0674 - accuracy: 0.0588 - val_loss: 6.0960 - val_accuracy: 0.0000e+00\n",
            "Epoch 3/100\n",
            "7/7 [==============================] - 4s 613ms/step - loss: 6.0584 - accuracy: 0.1279 - val_loss: 6.1299 - val_accuracy: 0.0000e+00\n",
            "Epoch 4/100\n",
            "7/7 [==============================] - 4s 614ms/step - loss: 6.0419 - accuracy: 0.0870 - val_loss: 6.4269 - val_accuracy: 0.0000e+00\n",
            "Epoch 5/100\n",
            "7/7 [==============================] - 6s 931ms/step - loss: 6.0093 - accuracy: 0.0665 - val_loss: 6.5703 - val_accuracy: 0.0000e+00\n",
            "Epoch 6/100\n",
            "7/7 [==============================] - 4s 616ms/step - loss: 5.9501 - accuracy: 0.1432 - val_loss: 6.9710 - val_accuracy: 0.0000e+00\n",
            "Epoch 7/100\n",
            "7/7 [==============================] - 4s 608ms/step - loss: 5.8973 - accuracy: 0.1151 - val_loss: 7.5802 - val_accuracy: 0.0000e+00\n",
            "Epoch 8/100\n",
            "7/7 [==============================] - 4s 614ms/step - loss: 5.8010 - accuracy: 0.0153 - val_loss: 7.9931 - val_accuracy: 0.0000e+00\n",
            "Epoch 9/100\n",
            "7/7 [==============================] - 4s 611ms/step - loss: 5.7101 - accuracy: 0.0153 - val_loss: 8.3212 - val_accuracy: 0.0000e+00\n",
            "Epoch 10/100\n",
            "7/7 [==============================] - 4s 620ms/step - loss: 5.6125 - accuracy: 0.0102 - val_loss: 8.5031 - val_accuracy: 0.0000e+00\n",
            "Epoch 11/100\n",
            "7/7 [==============================] - 5s 737ms/step - loss: 5.5194 - accuracy: 0.0102 - val_loss: 8.4396 - val_accuracy: 0.0000e+00\n",
            "Epoch 12/100\n",
            "7/7 [==============================] - 4s 625ms/step - loss: 5.4082 - accuracy: 0.0256 - val_loss: 8.2415 - val_accuracy: 0.0000e+00\n",
            "Epoch 13/100\n",
            "7/7 [==============================] - 4s 618ms/step - loss: 5.3069 - accuracy: 0.0179 - val_loss: 8.1167 - val_accuracy: 0.0000e+00\n",
            "Epoch 14/100\n",
            "7/7 [==============================] - 4s 610ms/step - loss: 5.2168 - accuracy: 0.0307 - val_loss: 7.8641 - val_accuracy: 0.0000e+00\n",
            "Epoch 15/100\n",
            "7/7 [==============================] - 4s 616ms/step - loss: 5.1217 - accuracy: 0.0358 - val_loss: 7.4159 - val_accuracy: 0.0000e+00\n",
            "Epoch 16/100\n",
            "7/7 [==============================] - 4s 616ms/step - loss: 5.0455 - accuracy: 0.0307 - val_loss: 7.3077 - val_accuracy: 0.0000e+00\n",
            "Epoch 17/100\n",
            "7/7 [==============================] - 4s 620ms/step - loss: 4.9864 - accuracy: 0.0281 - val_loss: 7.3121 - val_accuracy: 0.0000e+00\n",
            "Epoch 18/100\n",
            "7/7 [==============================] - 4s 611ms/step - loss: 4.8936 - accuracy: 0.0435 - val_loss: 7.4187 - val_accuracy: 0.0000e+00\n",
            "Epoch 19/100\n",
            "7/7 [==============================] - 4s 618ms/step - loss: 4.8221 - accuracy: 0.0460 - val_loss: 7.5924 - val_accuracy: 0.0000e+00\n",
            "Epoch 20/100\n",
            "7/7 [==============================] - 4s 617ms/step - loss: 4.7579 - accuracy: 0.0588 - val_loss: 7.5447 - val_accuracy: 0.0000e+00\n",
            "Epoch 21/100\n",
            "7/7 [==============================] - 4s 615ms/step - loss: 4.7187 - accuracy: 0.0639 - val_loss: 7.7341 - val_accuracy: 0.0000e+00\n",
            "Epoch 22/100\n",
            "7/7 [==============================] - 4s 616ms/step - loss: 4.6417 - accuracy: 0.0742 - val_loss: 7.7140 - val_accuracy: 0.0000e+00\n",
            "Epoch 23/100\n",
            "7/7 [==============================] - 4s 609ms/step - loss: 4.5790 - accuracy: 0.0665 - val_loss: 7.7309 - val_accuracy: 0.0000e+00\n",
            "Epoch 24/100\n",
            "7/7 [==============================] - 4s 615ms/step - loss: 4.5206 - accuracy: 0.0946 - val_loss: 7.9479 - val_accuracy: 0.0000e+00\n",
            "Epoch 25/100\n",
            "7/7 [==============================] - 4s 623ms/step - loss: 4.4564 - accuracy: 0.0972 - val_loss: 8.1463 - val_accuracy: 0.0000e+00\n",
            "Epoch 26/100\n",
            "7/7 [==============================] - 4s 615ms/step - loss: 4.3865 - accuracy: 0.1253 - val_loss: 8.0066 - val_accuracy: 0.0000e+00\n",
            "Epoch 27/100\n",
            "7/7 [==============================] - 4s 618ms/step - loss: 4.3311 - accuracy: 0.1279 - val_loss: 8.2348 - val_accuracy: 0.0000e+00\n",
            "Epoch 28/100\n",
            "7/7 [==============================] - 4s 612ms/step - loss: 4.2653 - accuracy: 0.1432 - val_loss: 8.2713 - val_accuracy: 0.0000e+00\n",
            "Epoch 29/100\n",
            "7/7 [==============================] - 4s 608ms/step - loss: 4.2027 - accuracy: 0.1816 - val_loss: 8.4402 - val_accuracy: 0.0000e+00\n",
            "Epoch 30/100\n",
            "7/7 [==============================] - 4s 618ms/step - loss: 4.1226 - accuracy: 0.2046 - val_loss: 8.5569 - val_accuracy: 0.0000e+00\n",
            "Epoch 31/100\n",
            "7/7 [==============================] - 4s 608ms/step - loss: 4.0511 - accuracy: 0.2302 - val_loss: 8.5062 - val_accuracy: 0.0000e+00\n",
            "Epoch 32/100\n",
            "7/7 [==============================] - 4s 618ms/step - loss: 4.0103 - accuracy: 0.2199 - val_loss: 8.6683 - val_accuracy: 0.0000e+00\n",
            "Epoch 33/100\n",
            "7/7 [==============================] - 5s 730ms/step - loss: 3.9511 - accuracy: 0.2302 - val_loss: 8.7075 - val_accuracy: 0.0000e+00\n",
            "Epoch 34/100\n",
            "7/7 [==============================] - 5s 620ms/step - loss: 3.8750 - accuracy: 0.2711 - val_loss: 8.8510 - val_accuracy: 0.0000e+00\n",
            "Epoch 35/100\n",
            "7/7 [==============================] - 4s 612ms/step - loss: 3.8338 - accuracy: 0.2634 - val_loss: 8.7871 - val_accuracy: 0.0000e+00\n",
            "Epoch 36/100\n",
            "7/7 [==============================] - 4s 622ms/step - loss: 3.7556 - accuracy: 0.2992 - val_loss: 8.9793 - val_accuracy: 0.0000e+00\n",
            "Epoch 37/100\n",
            "7/7 [==============================] - 6s 925ms/step - loss: 3.7016 - accuracy: 0.3146 - val_loss: 8.9719 - val_accuracy: 0.0000e+00\n",
            "Epoch 38/100\n",
            "7/7 [==============================] - 4s 618ms/step - loss: 3.6372 - accuracy: 0.3197 - val_loss: 9.1208 - val_accuracy: 0.0000e+00\n",
            "Epoch 39/100\n",
            "7/7 [==============================] - 4s 612ms/step - loss: 3.5702 - accuracy: 0.3376 - val_loss: 9.2279 - val_accuracy: 0.0000e+00\n",
            "Epoch 40/100\n",
            "7/7 [==============================] - 4s 611ms/step - loss: 3.5025 - accuracy: 0.3555 - val_loss: 9.1902 - val_accuracy: 0.0000e+00\n",
            "Epoch 41/100\n",
            "7/7 [==============================] - 4s 617ms/step - loss: 3.4441 - accuracy: 0.3760 - val_loss: 9.1802 - val_accuracy: 0.0000e+00\n",
            "Epoch 42/100\n",
            "7/7 [==============================] - 4s 612ms/step - loss: 3.3808 - accuracy: 0.3862 - val_loss: 9.3767 - val_accuracy: 0.0000e+00\n",
            "Epoch 43/100\n",
            "7/7 [==============================] - 4s 613ms/step - loss: 3.3060 - accuracy: 0.4373 - val_loss: 9.4354 - val_accuracy: 0.0000e+00\n",
            "Epoch 44/100\n",
            "7/7 [==============================] - 4s 615ms/step - loss: 3.2436 - accuracy: 0.4604 - val_loss: 9.4433 - val_accuracy: 0.0000e+00\n",
            "Epoch 45/100\n",
            "7/7 [==============================] - 4s 616ms/step - loss: 3.1803 - accuracy: 0.5038 - val_loss: 9.5948 - val_accuracy: 0.0000e+00\n",
            "Epoch 46/100\n",
            "7/7 [==============================] - 4s 620ms/step - loss: 3.1078 - accuracy: 0.5269 - val_loss: 9.7261 - val_accuracy: 0.0000e+00\n",
            "Epoch 47/100\n",
            "7/7 [==============================] - 4s 610ms/step - loss: 3.0497 - accuracy: 0.5601 - val_loss: 9.6017 - val_accuracy: 0.0000e+00\n",
            "Epoch 48/100\n",
            "7/7 [==============================] - 4s 610ms/step - loss: 2.9753 - accuracy: 0.5857 - val_loss: 9.8018 - val_accuracy: 0.0000e+00\n",
            "Epoch 49/100\n",
            "7/7 [==============================] - 4s 613ms/step - loss: 2.9098 - accuracy: 0.6138 - val_loss: 9.7481 - val_accuracy: 0.0000e+00\n",
            "Epoch 50/100\n",
            "7/7 [==============================] - 4s 614ms/step - loss: 2.8463 - accuracy: 0.6113 - val_loss: 9.8505 - val_accuracy: 0.0000e+00\n",
            "Epoch 51/100\n",
            "7/7 [==============================] - 4s 614ms/step - loss: 2.7785 - accuracy: 0.6368 - val_loss: 9.8408 - val_accuracy: 0.0000e+00\n",
            "Epoch 52/100\n",
            "7/7 [==============================] - 4s 617ms/step - loss: 2.7206 - accuracy: 0.6292 - val_loss: 9.8702 - val_accuracy: 0.0000e+00\n",
            "Epoch 53/100\n",
            "7/7 [==============================] - 4s 623ms/step - loss: 2.6504 - accuracy: 0.6675 - val_loss: 9.9792 - val_accuracy: 0.0000e+00\n",
            "Epoch 54/100\n",
            "7/7 [==============================] - 4s 618ms/step - loss: 2.5797 - accuracy: 0.6777 - val_loss: 9.9956 - val_accuracy: 0.0000e+00\n",
            "Epoch 55/100\n",
            "7/7 [==============================] - 4s 615ms/step - loss: 2.5303 - accuracy: 0.6854 - val_loss: 10.0699 - val_accuracy: 0.0000e+00\n",
            "Epoch 56/100\n",
            "7/7 [==============================] - 4s 616ms/step - loss: 2.4603 - accuracy: 0.7289 - val_loss: 10.2418 - val_accuracy: 0.0000e+00\n",
            "Epoch 57/100\n",
            "7/7 [==============================] - 4s 613ms/step - loss: 2.3878 - accuracy: 0.7212 - val_loss: 10.2124 - val_accuracy: 0.0000e+00\n",
            "Epoch 58/100\n",
            "7/7 [==============================] - 4s 619ms/step - loss: 2.3247 - accuracy: 0.7570 - val_loss: 10.2886 - val_accuracy: 0.0000e+00\n",
            "Epoch 59/100\n",
            "7/7 [==============================] - 4s 616ms/step - loss: 2.2792 - accuracy: 0.7340 - val_loss: 10.2567 - val_accuracy: 0.0000e+00\n",
            "Epoch 60/100\n",
            "7/7 [==============================] - 4s 612ms/step - loss: 2.2251 - accuracy: 0.7621 - val_loss: 10.4030 - val_accuracy: 0.0000e+00\n",
            "Epoch 61/100\n",
            "7/7 [==============================] - 4s 612ms/step - loss: 2.1666 - accuracy: 0.7468 - val_loss: 10.3267 - val_accuracy: 0.0000e+00\n",
            "Epoch 62/100\n",
            "7/7 [==============================] - 4s 610ms/step - loss: 2.1107 - accuracy: 0.7494 - val_loss: 10.4079 - val_accuracy: 0.0000e+00\n",
            "Epoch 63/100\n",
            "7/7 [==============================] - 4s 610ms/step - loss: 2.0856 - accuracy: 0.7928 - val_loss: 10.3625 - val_accuracy: 0.0000e+00\n",
            "Epoch 64/100\n",
            "7/7 [==============================] - 4s 616ms/step - loss: 2.0134 - accuracy: 0.8184 - val_loss: 10.5686 - val_accuracy: 0.0000e+00\n",
            "Epoch 65/100\n",
            "7/7 [==============================] - 4s 615ms/step - loss: 1.9560 - accuracy: 0.8082 - val_loss: 10.3568 - val_accuracy: 0.0000e+00\n",
            "Epoch 66/100\n",
            "7/7 [==============================] - 4s 617ms/step - loss: 1.9081 - accuracy: 0.8235 - val_loss: 10.5991 - val_accuracy: 0.0000e+00\n",
            "Epoch 67/100\n",
            "7/7 [==============================] - 4s 620ms/step - loss: 1.8341 - accuracy: 0.8363 - val_loss: 10.5877 - val_accuracy: 0.0000e+00\n",
            "Epoch 68/100\n",
            "7/7 [==============================] - 4s 615ms/step - loss: 1.8010 - accuracy: 0.8338 - val_loss: 10.5644 - val_accuracy: 0.0000e+00\n",
            "Epoch 69/100\n",
            "7/7 [==============================] - 4s 617ms/step - loss: 1.7405 - accuracy: 0.8440 - val_loss: 10.6770 - val_accuracy: 0.0000e+00\n",
            "Epoch 70/100\n",
            "7/7 [==============================] - 6s 928ms/step - loss: 1.7048 - accuracy: 0.8338 - val_loss: 10.6601 - val_accuracy: 0.0000e+00\n",
            "Epoch 71/100\n",
            "7/7 [==============================] - 4s 614ms/step - loss: 1.6558 - accuracy: 0.8491 - val_loss: 10.7314 - val_accuracy: 0.0000e+00\n",
            "Epoch 72/100\n",
            "7/7 [==============================] - 4s 618ms/step - loss: 1.6161 - accuracy: 0.8389 - val_loss: 10.8391 - val_accuracy: 0.0000e+00\n",
            "Epoch 73/100\n",
            "7/7 [==============================] - 4s 619ms/step - loss: 1.5706 - accuracy: 0.8389 - val_loss: 10.8314 - val_accuracy: 0.0000e+00\n",
            "Epoch 74/100\n",
            "7/7 [==============================] - 4s 614ms/step - loss: 1.5277 - accuracy: 0.8363 - val_loss: 10.9139 - val_accuracy: 0.0000e+00\n",
            "Epoch 75/100\n",
            "7/7 [==============================] - 4s 607ms/step - loss: 1.4995 - accuracy: 0.8210 - val_loss: 10.8259 - val_accuracy: 0.0000e+00\n",
            "Epoch 76/100\n",
            "7/7 [==============================] - 4s 613ms/step - loss: 1.4438 - accuracy: 0.8389 - val_loss: 10.9813 - val_accuracy: 0.0000e+00\n",
            "Epoch 77/100\n",
            "7/7 [==============================] - 4s 622ms/step - loss: 1.4116 - accuracy: 0.8465 - val_loss: 10.8745 - val_accuracy: 0.0000e+00\n",
            "Epoch 78/100\n",
            "7/7 [==============================] - 4s 615ms/step - loss: 1.3913 - accuracy: 0.8465 - val_loss: 10.9993 - val_accuracy: 0.0000e+00\n",
            "Epoch 79/100\n",
            "7/7 [==============================] - 4s 613ms/step - loss: 1.3569 - accuracy: 0.8491 - val_loss: 11.0239 - val_accuracy: 0.0000e+00\n",
            "Epoch 80/100\n",
            "7/7 [==============================] - 4s 612ms/step - loss: 1.3257 - accuracy: 0.8593 - val_loss: 10.9906 - val_accuracy: 0.0000e+00\n",
            "Epoch 81/100\n",
            "7/7 [==============================] - 4s 617ms/step - loss: 1.2750 - accuracy: 0.8696 - val_loss: 11.0513 - val_accuracy: 0.0000e+00\n",
            "Epoch 82/100\n",
            "7/7 [==============================] - 4s 616ms/step - loss: 1.2429 - accuracy: 0.8721 - val_loss: 11.1390 - val_accuracy: 0.0000e+00\n",
            "Epoch 83/100\n",
            "7/7 [==============================] - 4s 616ms/step - loss: 1.2176 - accuracy: 0.8798 - val_loss: 11.1805 - val_accuracy: 0.0000e+00\n",
            "Epoch 84/100\n",
            "7/7 [==============================] - 4s 611ms/step - loss: 1.1928 - accuracy: 0.8798 - val_loss: 11.1114 - val_accuracy: 0.0000e+00\n",
            "Epoch 85/100\n",
            "7/7 [==============================] - 4s 613ms/step - loss: 1.1593 - accuracy: 0.8951 - val_loss: 11.2090 - val_accuracy: 0.0000e+00\n",
            "Epoch 86/100\n",
            "7/7 [==============================] - 4s 612ms/step - loss: 1.1305 - accuracy: 0.8951 - val_loss: 11.2264 - val_accuracy: 0.0000e+00\n",
            "Epoch 87/100\n",
            "7/7 [==============================] - 4s 612ms/step - loss: 1.1105 - accuracy: 0.8875 - val_loss: 11.2742 - val_accuracy: 0.0000e+00\n",
            "Epoch 88/100\n",
            "7/7 [==============================] - 4s 608ms/step - loss: 1.0894 - accuracy: 0.8875 - val_loss: 11.2574 - val_accuracy: 0.0000e+00\n",
            "Epoch 89/100\n",
            "7/7 [==============================] - 4s 617ms/step - loss: 1.0822 - accuracy: 0.8772 - val_loss: 11.3019 - val_accuracy: 0.0000e+00\n",
            "Epoch 90/100\n",
            "7/7 [==============================] - 4s 614ms/step - loss: 1.0419 - accuracy: 0.8619 - val_loss: 11.3918 - val_accuracy: 0.0000e+00\n",
            "Epoch 91/100\n",
            "7/7 [==============================] - 4s 619ms/step - loss: 1.0215 - accuracy: 0.8747 - val_loss: 11.4016 - val_accuracy: 0.0000e+00\n",
            "Epoch 92/100\n",
            "7/7 [==============================] - 4s 617ms/step - loss: 1.0369 - accuracy: 0.8824 - val_loss: 11.3230 - val_accuracy: 0.0000e+00\n",
            "Epoch 93/100\n",
            "7/7 [==============================] - 4s 620ms/step - loss: 0.9950 - accuracy: 0.9054 - val_loss: 11.1664 - val_accuracy: 0.0000e+00\n",
            "Epoch 94/100\n",
            "7/7 [==============================] - 4s 617ms/step - loss: 0.9660 - accuracy: 0.8977 - val_loss: 11.5792 - val_accuracy: 0.0000e+00\n",
            "Epoch 95/100\n",
            "7/7 [==============================] - 4s 616ms/step - loss: 0.9319 - accuracy: 0.8951 - val_loss: 11.4290 - val_accuracy: 0.0000e+00\n",
            "Epoch 96/100\n",
            "7/7 [==============================] - 4s 618ms/step - loss: 0.9052 - accuracy: 0.8951 - val_loss: 11.5094 - val_accuracy: 0.0000e+00\n",
            "Epoch 97/100\n",
            "7/7 [==============================] - 4s 612ms/step - loss: 0.8837 - accuracy: 0.9028 - val_loss: 11.5274 - val_accuracy: 0.0000e+00\n",
            "Epoch 98/100\n",
            "7/7 [==============================] - 4s 621ms/step - loss: 0.8659 - accuracy: 0.8875 - val_loss: 11.5453 - val_accuracy: 0.0000e+00\n",
            "Epoch 99/100\n",
            "7/7 [==============================] - 4s 612ms/step - loss: 0.8439 - accuracy: 0.9028 - val_loss: 11.5827 - val_accuracy: 0.0000e+00\n",
            "Epoch 100/100\n",
            "7/7 [==============================] - 4s 617ms/step - loss: 0.8271 - accuracy: 0.9054 - val_loss: 11.5399 - val_accuracy: 0.0000e+00\n"
          ]
        }
      ]
    },
    {
      "cell_type": "code",
      "source": [
        "accr = model.evaluate(X_test,Y_test)\n",
        "print('Test set\\n  Loss: {:0.3f}\\n  Accuracy: {:0.3f}'.format(accr[0],accr[1]))"
      ],
      "metadata": {
        "colab": {
          "base_uri": "https://localhost:8080/"
        },
        "id": "X7gHzd8Q7LYZ",
        "outputId": "a3618730-6df4-4884-f924-1f3027fe46ac"
      },
      "execution_count": null,
      "outputs": [
        {
          "output_type": "stream",
          "name": "stdout",
          "text": [
            "2/2 [==============================] - 0s 105ms/step - loss: 2.5011 - accuracy: 0.7500\n",
            "Test set\n",
            "  Loss: 2.501\n",
            "  Accuracy: 0.750\n"
          ]
        }
      ]
    },
    {
      "cell_type": "code",
      "source": [
        "# plt.title('Loss')\n",
        "# plt.plot(history.history['loss'], label='train')\n",
        "# plt.plot(history.history['val_loss'], label='test')\n",
        "# plt.legend()\n",
        "# plt.show();"
      ],
      "metadata": {
        "id": "Afvft_HGgR0T"
      },
      "execution_count": null,
      "outputs": []
    },
    {
      "cell_type": "code",
      "source": [
        "labels1=list(data[x2])\n",
        "labels2=list(data[x1])\n",
        "#labels1"
      ],
      "metadata": {
        "id": "jPwt1jCahDLn"
      },
      "execution_count": null,
      "outputs": []
    },
    {
      "cell_type": "code",
      "source": [
        "new_complaint = ['blood circulation']\n",
        "seq = tokenizer.texts_to_sequences(new_complaint)\n",
        "padded = pad_sequences(seq, maxlen=MAX_SEQUENCE_LENGTH)\n",
        "pred = model.predict(padded)\n",
        "labels =labels1\n",
        "labels3=labels2\n",
        "for i in range(5):\n",
        "  print(labels[np.argsort(np.max(pred, axis=0))[-(i+1)]])\n",
        "  # print(labels3[np.argsort(np.max(pred, axis=0))[-(i+1)]])\n",
        "# pred"
      ],
      "metadata": {
        "colab": {
          "base_uri": "https://localhost:8080/"
        },
        "id": "hbV6Zv36gR6J",
        "outputId": "b3e32a60-83ea-414d-b419-dda0f86bde2a"
      },
      "execution_count": null,
      "outputs": [
        {
          "output_type": "stream",
          "name": "stdout",
          "text": [
            "dwi pada viparita dandasana upward facing twofoot staff pose\n",
            "halasana plough pose\n",
            "kraunchasana\n",
            "vasisthasana\n",
            "chamatkarasana\n"
          ]
        }
      ]
    },
    {
      "cell_type": "code",
      "source": [
        ""
      ],
      "metadata": {
        "id": "fMYgSVcDx1Ow"
      },
      "execution_count": null,
      "outputs": []
    }
  ]
}